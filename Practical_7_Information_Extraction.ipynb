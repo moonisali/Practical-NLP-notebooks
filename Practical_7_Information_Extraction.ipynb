{
 "cells": [
  {
   "cell_type": "markdown",
   "metadata": {
    "cell_id": "00000-3c447bab-2612-4feb-8175-7f801649913e",
    "deepnote_cell_type": "markdown",
    "tags": []
   },
   "source": [
    "# Information Extraction\n",
    "\n",
    "## (Named Entity Recognition, Relation and Event Extraction)"
   ]
  },
  {
   "cell_type": "markdown",
   "metadata": {
    "cell_id": "00001-1270ca63-1fe9-44b5-931d-bfcdd1a6bf80",
    "deepnote_cell_type": "markdown",
    "tags": []
   },
   "source": [
    "We are gradually moving along the simple NLP pipeline: from raw text to tokenised sentences to POS-tagged sentences. Now we can proceed to extract information from an unstructured text. "
   ]
  },
  {
   "cell_type": "markdown",
   "metadata": {
    "cell_id": "00001-c4c9a9c5-bd01-4065-a8b2-2831d06fcf8e",
    "deepnote_cell_type": "markdown",
    "tags": []
   },
   "source": [
    "<img src=\"https://www.nltk.org/images/ie-architecture.png \" width =\"600\">\n",
    "\n",
    "Source: NLTK book (https://www.nltk.org/book/ch07.html)"
   ]
  },
  {
   "cell_type": "markdown",
   "metadata": {
    "cell_id": "00001-02ce3fbc-2b95-4f7a-bb70-84c0b0859fcd",
    "deepnote_cell_type": "markdown",
    "tags": []
   },
   "source": [
    "## Named Entity Recognition (NER)"
   ]
  },
  {
   "cell_type": "markdown",
   "metadata": {
    "cell_id": "00002-3c265095-cf71-42fa-a0b8-bac1b96d8719",
    "deepnote_cell_type": "markdown",
    "tags": []
   },
   "source": [
    "The goal of a **named entity recognition (NER)** system is to identify all textual mentions of the named entities. \n",
    "Sub-tasks: \n",
    "- identifying the boundaries of the NE. \n",
    "- identifying its type "
   ]
  },
  {
   "cell_type": "markdown",
   "metadata": {
    "cell_id": "00003-43415bc8-e36d-4d3f-b7f1-cf94265d7619",
    "deepnote_cell_type": "markdown",
    "tags": []
   },
   "source": [
    "Why? \n",
    "- classifying content for news providers (automatically scan an article and reveal what and who is discussed in it to help categorise it for easy content discovery)\n",
    "- search engines \n",
    "- content recommendation systems\n",
    "- customer support (e.g. to categorise a social media complaint using the product model name and redirect the question to the relevant department)"
   ]
  },
  {
   "cell_type": "markdown",
   "metadata": {
    "cell_id": "00006-1f6b8928-de80-458b-a632-923763a4d93a",
    "deepnote_cell_type": "markdown",
    "tags": []
   },
   "source": [
    "  What constitutes a **named entity** type is task-specific:\n",
    "  - Common named entities: people, places, organizations \n",
    "  - Task-specific: geneor  protein  names,  financial  asset  classes, commercial products, works of art"
   ]
  },
  {
   "cell_type": "markdown",
   "metadata": {
    "cell_id": "00007-e74d857c-8817-4d22-a88f-02703a418dd7",
    "deepnote_cell_type": "markdown",
    "tags": []
   },
   "source": [
    "Some examples:\n",
    "\n",
    "- **People (PER)** (people, characters): \"**Emerson Brookings**, a resident fellow\")\n",
    "- **Organisaton (ORG)** (companies, sport teams): \"a historical geographer at the **University of Cambridge**\"\n",
    "- **Location (LOC)** (regions, mountains, seas): \"a storm front swept across the **Great Plains** of the United States\"\n",
    "- **Geo-Political Entity (GPE)** (countries, states, provinces): \"much of the western **United States** is on the brink of a prolonged megadrought\")\n",
    "- **Facility (FAC) (bridges, buildings, airports)**: \"Security agents at **Pittsburgh International Airport** caught a man with a gun\"\n",
    "- **Vehicles (VEH) (planes, trains, automobiles)**: \"American Airlines plans customer tours of **Boeing 737 Max**\"\n"
   ]
  },
  {
   "cell_type": "markdown",
   "metadata": {
    "cell_id": "00007-6ff050de-f918-46ea-9c16-6d2b24600651",
    "deepnote_cell_type": "markdown",
    "tags": []
   },
   "source": [
    "Preparing spaCy:"
   ]
  },
  {
   "cell_type": "code",
   "execution_count": null,
   "metadata": {
    "cell_id": "00007-d9bbe57f-eade-4e87-91d8-61d6ded4776a",
    "deepnote_cell_type": "code",
    "execution_millis": 16793,
    "execution_start": 1603786632752,
    "output_cleared": true,
    "source_hash": null,
    "tags": []
   },
   "outputs": [],
   "source": [
    "!pip install spacy\n",
    "\n",
    "import spacy\n",
    "from spacy import displacy\n",
    "\n",
    "!python -m spacy download en_core_web_sm #downloading the English model"
   ]
  },
  {
   "cell_type": "code",
   "execution_count": null,
   "metadata": {
    "cell_id": "00005-6ce4ae06-4cf3-44b4-9d97-c07a131e5aad",
    "deepnote_cell_type": "code",
    "execution_millis": 1009,
    "execution_start": 1603803653079,
    "output_cleared": true,
    "source_hash": null,
    "tags": []
   },
   "outputs": [],
   "source": [
    "import en_core_web_sm\n",
    "nlp = en_core_web_sm.load()\n",
    "\n",
    "doc_ner = nlp(\"In 2019, I went to Luxembourg and bought an apartment for 35 million euro near Red River, where the Obama family used to stay for summer in their first year as retirees\")\n",
    "\n",
    " \n",
    "for ent in doc_ner.ents:\n",
    "    print(ent.text, ent.label_)\n"
   ]
  },
  {
   "cell_type": "markdown",
   "metadata": {
    "cell_id": "00011-650618aa-12f9-45f0-9afd-005a502af83b",
    "deepnote_cell_type": "markdown",
    "tags": []
   },
   "source": [
    "Named entity labels in SpaCY: https://spacy.io/api/annotation#named-entities"
   ]
  },
  {
   "cell_type": "markdown",
   "metadata": {
    "cell_id": "00008-5d69bb9c-23c1-490d-9abf-d58209843443",
    "deepnote_cell_type": "markdown",
    "tags": []
   },
   "source": [
    "### Boundary detection in NER (NER as a Sequence labeling task)\n",
    "\n",
    "Named entity recognition is considered a sequence labeling task. This is because Named Entities can be more than one token, for instance: Jean-Claude Juncker (PER), Grand-Duché de Luxembourg(GPE)\n",
    "\n",
    "In sequence labeling tasks, spans of text are identfied as a unit.\n",
    "\n",
    "IOB tagging is one of the methods to represent the tags of the sequence."
   ]
  },
  {
   "cell_type": "markdown",
   "metadata": {
    "cell_id": "00011-262a342a-2b4c-4d7c-a980-6e64ed4ea842",
    "deepnote_cell_type": "markdown",
    "tags": []
   },
   "source": [
    "![Picture title](img/image-20201026-102814.png)\n"
   ]
  },
  {
   "cell_type": "markdown",
   "metadata": {
    "cell_id": "00013-a0033e41-7998-4c9a-9f86-b4dbe31e0e9a",
    "deepnote_cell_type": "markdown",
    "tags": []
   },
   "source": [
    "For instance: \n",
    "\n",
    "Jean-Claude(B-PER) Juncker(I_PER) was(O) the(O) former(O) prime(O) minister(O) of(O)  Grand-Duchy(B-GPE) of(I-GBE) Luxembourg(I-GPE)."
   ]
  },
  {
   "cell_type": "markdown",
   "metadata": {
    "cell_id": "00014-3228a968-1223-4bdb-acea-77f80512bfeb",
    "deepnote_cell_type": "markdown",
    "tags": []
   },
   "source": [
    "The following code shows how to get IOB tagging of named entities using spaCy library."
   ]
  },
  {
   "cell_type": "code",
   "execution_count": null,
   "metadata": {
    "cell_id": "00014-ec1bc91d-8d6f-4b45-ba83-c902476ab849",
    "deepnote_cell_type": "code",
    "execution_millis": 1254,
    "execution_start": 1603804113858,
    "output_cleared": true,
    "source_hash": null,
    "tags": []
   },
   "outputs": [],
   "source": [
    "import en_core_web_sm\n",
    "nlp = en_core_web_sm.load()\n",
    "\n",
    "doc_ner = nlp(\"In 2019, I went to Luxembourg and bought an apartment for 35 million euro near Red River.\")\n",
    "\n",
    "for token in doc_ner:\n",
    "    if(token.ent_iob_!=\"O\"):\n",
    "        print(token.text,str(token.ent_iob_)+\"-\"+str(token.ent_type_[:3]))\n",
    "    else:\n",
    "        print(token.text,token.ent_iob_)"
   ]
  },
  {
   "cell_type": "markdown",
   "metadata": {
    "cell_id": "00014-8d7e5561-209d-4a53-b882-43b3e032ed38",
    "deepnote_cell_type": "markdown",
    "tags": []
   },
   "source": [
    "**1- Research and Reply** IOB is not the only sequence labeling scheme defined. Look for other sequence labeling schemes and descibe them using the above example.(at least two other schemes)"
   ]
  },
  {
   "cell_type": "markdown",
   "metadata": {
    "cell_id": "00018-8c992a2d-4710-4ba9-aaf9-a966e73126b7",
    "deepnote_cell_type": "markdown",
    "tags": []
   },
   "source": [
    "### Write your answer here"
   ]
  },
  {
   "cell_type": "markdown",
   "metadata": {
    "cell_id": "00006-de8bfb9b-4044-461d-9725-a6fae99f9450",
    "deepnote_cell_type": "markdown",
    "tags": []
   },
   "source": [
    "We can visualise NEs with DisplayCY:"
   ]
  },
  {
   "cell_type": "code",
   "execution_count": null,
   "metadata": {
    "cell_id": "00005-fa4d1755-5827-4dbb-a056-34a048bd5126",
    "deepnote_cell_type": "code",
    "execution_millis": 5,
    "execution_start": 1603704298014,
    "output_cleared": false,
    "source_hash": "b70ec316",
    "tags": []
   },
   "outputs": [
    {
     "data": {
      "text/html": [
       "<span class=\"tex2jax_ignore\"><div class=\"entities\" style=\"line-height: 2.5; direction: ltr\">In \n",
       "<mark class=\"entity\" style=\"background: #bfe1d9; padding: 0.45em 0.6em; margin: 0 0.25em; line-height: 1; border-radius: 0.35em;\">\n",
       "    2019\n",
       "    <span style=\"font-size: 0.8em; font-weight: bold; line-height: 1; border-radius: 0.35em; text-transform: uppercase; vertical-align: middle; margin-left: 0.5rem\">DATE</span>\n",
       "</mark>\n",
       ", I went to \n",
       "<mark class=\"entity\" style=\"background: #feca74; padding: 0.45em 0.6em; margin: 0 0.25em; line-height: 1; border-radius: 0.35em;\">\n",
       "    Luxembourg\n",
       "    <span style=\"font-size: 0.8em; font-weight: bold; line-height: 1; border-radius: 0.35em; text-transform: uppercase; vertical-align: middle; margin-left: 0.5rem\">GPE</span>\n",
       "</mark>\n",
       " and bought an apartment for \n",
       "<mark class=\"entity\" style=\"background: #e4e7d2; padding: 0.45em 0.6em; margin: 0 0.25em; line-height: 1; border-radius: 0.35em;\">\n",
       "    35 million euro\n",
       "    <span style=\"font-size: 0.8em; font-weight: bold; line-height: 1; border-radius: 0.35em; text-transform: uppercase; vertical-align: middle; margin-left: 0.5rem\">QUANTITY</span>\n",
       "</mark>\n",
       " near \n",
       "<mark class=\"entity\" style=\"background: #ff9561; padding: 0.45em 0.6em; margin: 0 0.25em; line-height: 1; border-radius: 0.35em;\">\n",
       "    Red River\n",
       "    <span style=\"font-size: 0.8em; font-weight: bold; line-height: 1; border-radius: 0.35em; text-transform: uppercase; vertical-align: middle; margin-left: 0.5rem\">LOC</span>\n",
       "</mark>\n",
       ", where the \n",
       "<mark class=\"entity\" style=\"background: #aa9cfc; padding: 0.45em 0.6em; margin: 0 0.25em; line-height: 1; border-radius: 0.35em;\">\n",
       "    Obama\n",
       "    <span style=\"font-size: 0.8em; font-weight: bold; line-height: 1; border-radius: 0.35em; text-transform: uppercase; vertical-align: middle; margin-left: 0.5rem\">PERSON</span>\n",
       "</mark>\n",
       " family used to stay for \n",
       "<mark class=\"entity\" style=\"background: #bfe1d9; padding: 0.45em 0.6em; margin: 0 0.25em; line-height: 1; border-radius: 0.35em;\">\n",
       "    summer\n",
       "    <span style=\"font-size: 0.8em; font-weight: bold; line-height: 1; border-radius: 0.35em; text-transform: uppercase; vertical-align: middle; margin-left: 0.5rem\">DATE</span>\n",
       "</mark>\n",
       " in \n",
       "<mark class=\"entity\" style=\"background: #bfe1d9; padding: 0.45em 0.6em; margin: 0 0.25em; line-height: 1; border-radius: 0.35em;\">\n",
       "    their first year\n",
       "    <span style=\"font-size: 0.8em; font-weight: bold; line-height: 1; border-radius: 0.35em; text-transform: uppercase; vertical-align: middle; margin-left: 0.5rem\">DATE</span>\n",
       "</mark>\n",
       " as retirees</div></span>"
      ],
      "text/plain": [
       "<IPython.core.display.HTML object>"
      ]
     },
     "metadata": {},
     "output_type": "display_data"
    }
   ],
   "source": [
    "displacy.render(doc_ner, style=\"ent\",jupyter=True)\n"
   ]
  },
  {
   "cell_type": "markdown",
   "metadata": {
    "cell_id": "00025-ee62dd6d-8eb4-47b9-8a08-3acf5d24dee4",
    "deepnote_cell_type": "markdown",
    "tags": []
   },
   "source": [
    "### Named entity extraction in Stanza:\n"
   ]
  },
  {
   "cell_type": "markdown",
   "metadata": {
    "cell_id": "00026-f61ecbe8-e135-4e72-8b7b-2f7742304372",
    "deepnote_cell_type": "markdown",
    "tags": []
   },
   "source": [
    "Prepare stanza:"
   ]
  },
  {
   "cell_type": "code",
   "execution_count": null,
   "metadata": {
    "cell_id": "00026-b9d6dfba-2960-432f-9b63-4d95835fb17d",
    "deepnote_cell_type": "code",
    "execution_millis": 16198,
    "execution_start": 1603799654922,
    "output_cleared": true,
    "source_hash": null,
    "tags": []
   },
   "outputs": [],
   "source": [
    "!pip install stanza #install stanza\n",
    "\n",
    "import stanza\n",
    "stanza.download('en') # download English model"
   ]
  },
  {
   "cell_type": "code",
   "execution_count": null,
   "metadata": {
    "cell_id": "00026-60d9f5f8-4ffd-407e-8044-17a0d671aca7",
    "deepnote_cell_type": "code",
    "execution_millis": 2062,
    "execution_start": 1603799696980,
    "output_cleared": true,
    "source_hash": null,
    "tags": []
   },
   "outputs": [],
   "source": [
    "import stanza\n",
    "\n",
    "nlp = stanza.Pipeline(lang='en', processors='tokenize,ner')\n",
    "doc = nlp(\"In 2019, I went to Luxembourg and bought an apartment for 35 million euro near Red River, where the Obama family used to stay for summer in their first year as retirees.\")\n",
    "print(*[f'entity: {ent.text}\\ttype: {ent.type}' for ent in doc.ents], sep='\\n')\n"
   ]
  },
  {
   "cell_type": "markdown",
   "metadata": {
    "cell_id": "00014-649ee28d-c123-4a1e-8303-90bcd4d09bd4",
    "deepnote_cell_type": "markdown",
    "tags": []
   },
   "source": [
    "### Type Ambiguity in NER\n",
    "\n",
    "One of the complications in Named Entity Recognition task is caused by the ambiguity in type of some Entities.\n",
    "For instance:\n",
    "**JFK**\n",
    "\n",
    "    1- Airport (Facility) \n",
    "    2- 25th President of the US (Person)\n"
   ]
  },
  {
   "cell_type": "code",
   "execution_count": null,
   "metadata": {
    "cell_id": "00025-7ff5d3b8-e338-4d34-947f-2a504310e0ed",
    "deepnote_cell_type": "code",
    "execution_millis": 885,
    "execution_start": 1603800187169,
    "output_cleared": false,
    "source_hash": "e47af359",
    "tags": []
   },
   "outputs": [
    {
     "data": {
      "text/html": [
       "<span class=\"tex2jax_ignore\"><div class=\"entities\" style=\"line-height: 2.5; direction: ltr\">\n",
       "<mark class=\"entity\" style=\"background: #aa9cfc; padding: 0.45em 0.6em; margin: 0 0.25em; line-height: 1; border-radius: 0.35em;\">\n",
       "    JFK\n",
       "    <span style=\"font-size: 0.8em; font-weight: bold; line-height: 1; border-radius: 0.35em; text-transform: uppercase; vertical-align: middle; margin-left: 0.5rem\">PERSON</span>\n",
       "</mark>\n",
       " served in both \n",
       "<mark class=\"entity\" style=\"background: #7aecec; padding: 0.45em 0.6em; margin: 0 0.25em; line-height: 1; border-radius: 0.35em;\">\n",
       "    the U.S. House of Representatives\n",
       "    <span style=\"font-size: 0.8em; font-weight: bold; line-height: 1; border-radius: 0.35em; text-transform: uppercase; vertical-align: middle; margin-left: 0.5rem\">ORG</span>\n",
       "</mark>\n",
       " and \n",
       "<mark class=\"entity\" style=\"background: #7aecec; padding: 0.45em 0.6em; margin: 0 0.25em; line-height: 1; border-radius: 0.35em;\">\n",
       "    U.S. Senate\n",
       "    <span style=\"font-size: 0.8em; font-weight: bold; line-height: 1; border-radius: 0.35em; text-transform: uppercase; vertical-align: middle; margin-left: 0.5rem\">ORG</span>\n",
       "</mark>\n",
       " before becoming the \n",
       "<mark class=\"entity\" style=\"background: #e4e7d2; padding: 0.45em 0.6em; margin: 0 0.25em; line-height: 1; border-radius: 0.35em;\">\n",
       "    35th\n",
       "    <span style=\"font-size: 0.8em; font-weight: bold; line-height: 1; border-radius: 0.35em; text-transform: uppercase; vertical-align: middle; margin-left: 0.5rem\">ORDINAL</span>\n",
       "</mark>\n",
       " president in \n",
       "<mark class=\"entity\" style=\"background: #bfe1d9; padding: 0.45em 0.6em; margin: 0 0.25em; line-height: 1; border-radius: 0.35em;\">\n",
       "    1961\n",
       "    <span style=\"font-size: 0.8em; font-weight: bold; line-height: 1; border-radius: 0.35em; text-transform: uppercase; vertical-align: middle; margin-left: 0.5rem\">DATE</span>\n",
       "</mark>\n",
       ".</div></span>"
      ],
      "text/plain": [
       "<IPython.core.display.HTML object>"
      ]
     },
     "metadata": {},
     "output_type": "display_data"
    },
    {
     "data": {
      "text/html": [
       "<span class=\"tex2jax_ignore\"><div class=\"entities\" style=\"line-height: 2.5; direction: ltr\">Flight KL-3949 from \n",
       "<mark class=\"entity\" style=\"background: #feca74; padding: 0.45em 0.6em; margin: 0 0.25em; line-height: 1; border-radius: 0.35em;\">\n",
       "    Abu-Dhabi\n",
       "    <span style=\"font-size: 0.8em; font-weight: bold; line-height: 1; border-radius: 0.35em; text-transform: uppercase; vertical-align: middle; margin-left: 0.5rem\">GPE</span>\n",
       "</mark>\n",
       " arrived at \n",
       "<mark class=\"entity\" style=\"background: #ddd; padding: 0.45em 0.6em; margin: 0 0.25em; line-height: 1; border-radius: 0.35em;\">\n",
       "    JFK airport\n",
       "    <span style=\"font-size: 0.8em; font-weight: bold; line-height: 1; border-radius: 0.35em; text-transform: uppercase; vertical-align: middle; margin-left: 0.5rem\">FAC</span>\n",
       "</mark>\n",
       " at \n",
       "<mark class=\"entity\" style=\"background: #bfe1d9; padding: 0.45em 0.6em; margin: 0 0.25em; line-height: 1; border-radius: 0.35em;\">\n",
       "    12:05 PM\n",
       "    <span style=\"font-size: 0.8em; font-weight: bold; line-height: 1; border-radius: 0.35em; text-transform: uppercase; vertical-align: middle; margin-left: 0.5rem\">TIME</span>\n",
       "</mark>\n",
       ".</div></span>"
      ],
      "text/plain": [
       "<IPython.core.display.HTML object>"
      ]
     },
     "metadata": {},
     "output_type": "display_data"
    }
   ],
   "source": [
    "import spacy\n",
    "import en_core_web_sm\n",
    "nlp = en_core_web_sm.load()\n",
    "\n",
    "sentence_1 = \"JFK served in both the U.S. House of Representatives and U.S. Senate before becoming the 35th president in 1961.\"\n",
    "sentence_2 = \"Flight KL-3949 from Abu-Dhabi arrived at JFK airport at 12:05 PM.\"\n",
    "doc1=nlp(sentence_1)\n",
    "doc2=nlp(sentence_2)\n",
    "displacy.render(doc1, style=\"ent\",jupyter=True)\n",
    "displacy.render(doc2, style=\"ent\",jupyter=True)"
   ]
  },
  {
   "cell_type": "markdown",
   "metadata": {
    "cell_id": "00027-63ed84cf-6d36-44ae-91d4-65dcfd83db89",
    "deepnote_cell_type": "markdown",
    "tags": []
   },
   "source": [
    "**2-CODE IT:** Think of a named entity that can serve as two or more different entity types in a language you know well, give examples for each of the types and using a library of your own choosing extract named entity for the examples and print them.\n"
   ]
  },
  {
   "cell_type": "code",
   "execution_count": null,
   "metadata": {
    "cell_id": "00025-31e56773-86f1-4481-a397-0b2b1c8978bb",
    "deepnote_cell_type": "code",
    "execution_millis": 2,
    "execution_start": 1603800048512,
    "output_cleared": false,
    "source_hash": "9a558e05",
    "tags": []
   },
   "outputs": [],
   "source": [
    "#insert your code here"
   ]
  },
  {
   "cell_type": "markdown",
   "metadata": {
    "cell_id": "00016-6cd9fe90-f854-4327-aa80-c894368f9736",
    "deepnote_cell_type": "markdown",
    "tags": []
   },
   "source": [
    "### NER algorithm families: \n",
    "\n",
    "    1. Feature based sequence labeling  machine learning algorithms such as CRF\n",
    "    2. Neural based sequence labeling machine learning algorithms such as bi-LSTM\n",
    "    3. Rule based machine learning algorithms\n"
   ]
  },
  {
   "cell_type": "markdown",
   "metadata": {
    "cell_id": "00028-fd7eb706-1a5a-4da1-be2c-c5bbeebd44b1",
    "deepnote_cell_type": "markdown",
    "tags": []
   },
   "source": [
    "**Feature based sequence labeling machine leaning algorithms**, transform data into features and decide on the label of each token according to a labeling scheme such as IOB based on these features.\n",
    "\n",
    "In Figure below from your text book, you can see the features used (each token is represented as a feature defining it's POS tag(IN,NNP,...) and a feature identifying whether the token is capitalized(x,X) or not)\n",
    "![Named entity recognition as a sequence labeling task](https://pic4.zhimg.com/80/v2-de055cf1dc659adf7b8177c8bc92dac3_720w.jpg)\n",
    "\n",
    "\n",
    "\n",
    "\n",
    "These features are then fed into a classifer such as CRF, which is trained using labeled data to decide whether the token should be identified as the begining(for instance B-PER meaning begining of named entity of PERSON ) , or continuation (for instance I-PER meaning continuation of named entity of PERSON) or doen't belong to a named entity(O).\n",
    "\n",
    "\n"
   ]
  },
  {
   "cell_type": "markdown",
   "metadata": {
    "cell_id": "00029-f83ddcfe-2347-4f8f-a9c6-da624efd8956",
    "deepnote_cell_type": "markdown",
    "tags": []
   },
   "source": [
    "**If you Fancy** Watch [this](https://www.youtube.com/watch?v=wxyZTSc2tM0) video of NLP course of Stanford university in which Chris Manning introduces machine learning algorithms for sequence labeling."
   ]
  },
  {
   "cell_type": "markdown",
   "metadata": {
    "cell_id": "00030-dfd271e3-00d9-4826-8144-0b84c5256c03",
    "deepnote_cell_type": "markdown",
    "tags": []
   },
   "source": [
    "---\n"
   ]
  },
  {
   "cell_type": "markdown",
   "metadata": {
    "cell_id": "00030-ba985f45-f27d-4993-80b6-0832c6f1c7dc",
    "deepnote_cell_type": "markdown",
    "tags": []
   },
   "source": [
    "**Rule based Algorithms** use a set of rules to decide whether a span of text is a named entity or not."
   ]
  },
  {
   "cell_type": "markdown",
   "metadata": {
    "cell_id": "00017-0fb3b660-51ac-45d7-8f63-5de4e47de0af",
    "deepnote_cell_type": "markdown",
    "tags": []
   },
   "source": [
    "**3- OBSERVE AND REFLECT**: Consider a language you know well. Using examples define some rules for (two at the least of different entity types such as LOCATION and FACILITY) which can help extracting Named Entities.\n",
    "\n",
    "For instance: If a capitalized word occurs after the word: \"Mr.\" classify it as a PERSON.\n"
   ]
  },
  {
   "cell_type": "markdown",
   "metadata": {
    "cell_id": "00032-d3e2977c-304c-4c49-ba40-e3b96cd0ae7e",
    "deepnote_cell_type": "markdown",
    "tags": []
   },
   "source": [
    "### Write your anser here"
   ]
  },
  {
   "cell_type": "markdown",
   "metadata": {
    "cell_id": "00034-deec5471-448e-4e7f-bb95-e09c75694305",
    "deepnote_cell_type": "markdown",
    "tags": []
   },
   "source": [
    "The following code implements a virtual assisstant for a travel agency. \n",
    "\n",
    "In order to extract traveler's names, destination and date of travel it uses Spacy's NER functionality."
   ]
  },
  {
   "cell_type": "code",
   "execution_count": null,
   "metadata": {
    "cell_id": "00035-6fc59aa6-b451-40e3-b645-bedc221baee9",
    "deepnote_cell_type": "code",
    "tags": []
   },
   "outputs": [],
   "source": [
    "\n",
    "import en_core_web_sm\n",
    "nlp = en_core_web_sm.load()\n",
    "travelers =[]\n",
    "destination =\"\"\n",
    "date = \"\"\n",
    "        \n",
    "\n",
    "quit =False\n",
    "input_text = input(\"Hello I am your travel agency virtual assistant. Specify date of travel, destination and name of traveleres please: Press q to quit, r to reset)\")\n",
    "print(input_text)\n",
    "missing = True\n",
    "while(not quit):\n",
    "    \n",
    "    \n",
    "    quit = (input_text==\"q\")\n",
    "    reset = (input_text==\"r\")\n",
    "    if(not quit):\n",
    "        if(reset):\n",
    "            travelers =[]\n",
    "            destination =\"\"\n",
    "            date = \"\"\n",
    "        \n",
    "        elif(input_text ==\"q\"):# checking if user already wants to exit program\n",
    "                quit = True\n",
    "                continue;\n",
    "        elif(input_text ==\"Y\"):# checking if user wants to register request\n",
    "            if(missing):\n",
    "                print(\"Your request was not registered due to missing information\")\n",
    "\n",
    "            else:\n",
    "                print(\"Your travel request has been registered in the system:\\n Destination:\"+ destination +\" \\nDate:\"+date+\"\\nTravelers names: \"+ str(travelers))\n",
    "            quit = True\n",
    "                              \n",
    "        else:\n",
    "            missing = False\n",
    "            doc_ner = nlp(input_text)\n",
    "            for ent in doc_ner.ents:\n",
    "                print(ent.label_,ent.text)\n",
    "                if(ent.label_ == \"PERSON\"):\n",
    "                    travelers.append(ent.text)\n",
    "                elif(ent.label_ == \"LOC\" or ent.label_ ==\"GPE\"):\n",
    "                    destination= ent.text\n",
    "                elif(ent.label_ == \"DATE\"):\n",
    "                    date= ent.text\n",
    "            \n",
    "            if(not date):\n",
    "                print(\"You didn't specify the date of your travel.\")\n",
    "                missing= True\n",
    "            if(not destination):\n",
    "                print(\"You didn't specify the destination for your travel.\")\n",
    "                missing = True\n",
    "            if(not travelers):\n",
    "                print(\"You didn't specify travelers's name.\")\n",
    "                missing =True\n",
    "                \n",
    "                \n",
    "            if(missing == False):\n",
    "                print(\"You are planning to travel to \" +destination+\" on \"+ date +\". Travelers names are : \"+ str(travelers))                \n",
    "                input_text = input(\"Press Y to confirm:(Press q to quit, r to reset)\")\n",
    "                print(input_text)\n",
    "            else:\n",
    "                input_text = input(\"Modify request: (Press q to quit, r to reset)\")\n",
    "                print(input_text)\n",
    "\n",
    "            \n"
   ]
  },
  {
   "cell_type": "markdown",
   "metadata": {
    "cell_id": "00036-d26af295-0512-4cd8-a330-b0a04d5177e6",
    "deepnote_cell_type": "markdown",
    "tags": []
   },
   "source": [
    "**4- CODE IT** Modify the code so that the virtual assistant also registers:\n",
    "\n",
    "1. the maximum amount of money the traveler is willing to spend \n",
    "2. the number of travelers"
   ]
  },
  {
   "cell_type": "markdown",
   "metadata": {
    "cell_id": "00034-8238318f-2b9e-400f-9c05-766fab10b920",
    "deepnote_cell_type": "markdown",
    "tags": []
   },
   "source": [
    "---"
   ]
  },
  {
   "cell_type": "markdown",
   "metadata": {
    "cell_id": "00009-f2bf7872-09e6-4a8b-9fdd-dbbe7b4b51f9",
    "deepnote_cell_type": "markdown",
    "tags": []
   },
   "source": [
    "## Relation Extraction"
   ]
  },
  {
   "cell_type": "markdown",
   "metadata": {
    "cell_id": "00009-594bf6b2-e5e5-4ff5-8510-5b34442e6643",
    "deepnote_cell_type": "markdown",
    "tags": []
   },
   "source": [
    "We now have identified the named entities. Would not it be nice to also find relations between them?\n",
    "\n",
    "One way of approaching this task is to initially look for all triples of the form (X, α, Y), where X and Y are named entities of the required types,\n",
    " and α is the string of words that intervenes between X and Y. We can then use regular expressions to pull out just those instances of α that express the relation that we are looking for. \n",
    " \n",
    " \n"
   ]
  },
  {
   "cell_type": "markdown",
   "metadata": {
    "cell_id": "00013-fddb4178-513c-403d-9b44-49412b1fdefb",
    "deepnote_cell_type": "markdown",
    "tags": []
   },
   "source": [
    " These are often binary relations like child-of, em-ployment, part-whole, and geospatial relations.  Relation extraction has close links to populating a relational database."
   ]
  },
  {
   "cell_type": "markdown",
   "metadata": {
    "cell_id": "00046-cdbe9925-6178-4c78-ac79-9bd61d2df72c",
    "deepnote_cell_type": "markdown",
    "tags": []
   },
   "source": [
    "Watch [this video](https://www.youtube.com/watch?v=gTFMULX7vU0) of Stanford Natural languge processing video series by Dan Jurafsky as an introduction on Relation Extraction."
   ]
  },
  {
   "cell_type": "markdown",
   "metadata": {
    "cell_id": "00041-a4c72959-1537-4880-b0e3-d41dae797f00",
    "deepnote_cell_type": "markdown",
    "tags": []
   },
   "source": [
    "One of the applications of relation extraction task is **Question Anwering**. Question answering systems retrive answers to queries from **knowledge bases**.\n",
    "\n",
    "Example: \n",
    "\n",
    "**Question:** Which Luxembourgish athelete won a gold medal at the 1952 Summer Olympics?\n",
    "\n",
    "Relations : (X ,is, Luxembougish) , (X ,won, gold medal) and (X ,participated-in, 1952 Summer Olympics)\n",
    "\n",
    "\n",
    "**Answer** X is Josy Barthel\n",
    "\n",
    "![Josy Barthel](https://2.bp.blogspot.com/-Co3IuoMvwlc/V_vz1YVlSSI/AAAAAAAAAzA/NlMLF6S9WJE2LLcQtK0KhkBgExD2XdBUwCLcB/s1600/448px-Josy-Victoire1.gif)"
   ]
  },
  {
   "cell_type": "markdown",
   "metadata": {
    "cell_id": "00052-ccf02c9f-a801-4d5f-a6dd-b70b11f7d27b",
    "deepnote_cell_type": "markdown",
    "tags": []
   },
   "source": [
    "\n",
    "The following example searches for strings that contain the word *in*.\n",
    " \n",
    "The special regular expression (?!\\b.+ing\\b) is a negative lookahead assertion that allows us to disregard strings such as **success** in supervising the transition of, where **in** is followed by a gerund.\n",
    "\n"
   ]
  },
  {
   "cell_type": "code",
   "execution_count": null,
   "metadata": {
    "cell_id": "00052-f446e1f9-3741-4f19-8e39-796f623ece1c",
    "deepnote_cell_type": "code",
    "tags": []
   },
   "outputs": [],
   "source": [
    "!pip install nltk\n",
    "import nltk"
   ]
  },
  {
   "cell_type": "code",
   "execution_count": null,
   "metadata": {
    "cell_id": "00010-ac103b6a-2aa3-4f58-b74b-0d40421c7c0d",
    "deepnote_cell_type": "code",
    "execution_millis": 316,
    "execution_start": 1603805560511,
    "output_cleared": true,
    "source_hash": null,
    "tags": []
   },
   "outputs": [],
   "source": [
    "nltk.download('ieer')\n",
    "import re\n",
    "IN = re.compile(r'.*\\bin\\b(?!\\b.+ing)')\n",
    "for doc in nltk.corpus.ieer.parsed_docs('NYT_19980315'):\n",
    "    for rel in nltk.sem.extract_rels('ORG', 'LOC', doc, corpus='ieer', pattern = IN):\n",
    "        print(nltk.sem.rtuple(rel))"
   ]
  },
  {
   "cell_type": "markdown",
   "metadata": {
    "cell_id": "00027-ea53ae65-e070-4028-a984-6d7751b955da",
    "deepnote_cell_type": "markdown",
    "tags": []
   },
   "source": [
    "### Relation extraction algorithms:\n",
    "\n",
    "    1. handwritten patterns\n",
    "    2. supervised machine learning\n",
    "    3. semi-supervised(via bootstrapping and via distant supervision)\n",
    "    4. unsupervised"
   ]
  },
  {
   "cell_type": "markdown",
   "metadata": {
    "cell_id": "00050-63b50ce0-8258-4e9f-85de-fe7aa873a02f",
    "deepnote_cell_type": "markdown",
    "tags": []
   },
   "source": [
    "**IF you Fancy** Watch [this lecture](https://www.youtube.com/watch?v=pO3Jsr31s_Q&list=PLoROMvodv4rObpMCir6rNNUlFAn56Js20&index=7) of Stanford University's Natural Language Understaing course by Bill MacCartney on Relation Extraction explaining different Relation Extraction algorithms."
   ]
  },
  {
   "cell_type": "markdown",
   "metadata": {
    "cell_id": "00051-7e62403c-7fab-450b-a935-c8754af32ba1",
    "deepnote_cell_type": "markdown",
    "tags": []
   },
   "source": [
    "### Representing Relations:\n",
    "### RDF (Rsource Description FrameWork)\n",
    "\n",
    "RDF is a meta-language for representing relations between entities using a tuple of (subject, predicate , object).\n",
    "\n",
    "\n",
    "<img src=\"https://cdn1.marklogic.com/wp-content/uploads/2015/11/1-sop-1.png\" width =\"600\">\n",
    "\n"
   ]
  },
  {
   "cell_type": "markdown",
   "metadata": {
    "cell_id": "00054-0a245a01-5958-4271-ac7a-532d3b0afe61",
    "deepnote_cell_type": "markdown",
    "tags": []
   },
   "source": [
    "Hyponymy and Hypernymy Relations in Linguistics:\n",
    "\n",
    "\n",
    "\n",
    "<img src=\"https://media.springernature.com/original/springer-static/image/chp%3A10.1007%2F978-3-030-02934-0_20/MediaObjects/475331_1_En_20_Fig2_HTML.png\" width =\"600\">"
   ]
  },
  {
   "cell_type": "markdown",
   "metadata": {
    "cell_id": "00028-016a82d8-6b2e-4220-832e-7eef8866121d",
    "deepnote_cell_type": "markdown",
    "tags": []
   },
   "source": [
    "The following example is applying a handwritten pattern to identify hyponymy:\n",
    "\n",
    "If a text span follows the pattern \"X **such as** Y and/or Z\" then Y and Z are Hyponyms of X.\n",
    "\n",
    "For  example: I like tropical fruits **such as** Bannana and Mango.  Then the rule identfies \"Bannana\" and \"Mango\" as Hyponyms of \"Fruit\".\n",
    "\n"
   ]
  },
  {
   "cell_type": "markdown",
   "metadata": {
    "cell_id": "00029-5e7d133e-14cd-4830-b06b-4249580bb0bd",
    "deepnote_cell_type": "markdown",
    "tags": []
   },
   "source": [
    "**5- OBSERVE and REFLECT**\n",
    "\n",
    "Give an example for Hypernymy pattern detection in english other than **such as** patten."
   ]
  },
  {
   "cell_type": "markdown",
   "metadata": {
    "cell_id": "00057-84d76a7a-39f7-4e04-97b0-b9da22f8c3be",
    "deepnote_cell_type": "markdown",
    "tags": []
   },
   "source": [
    "### Write your answer here"
   ]
  },
  {
   "cell_type": "markdown",
   "metadata": {
    "cell_id": "00057-8f222262-5ca9-4906-8e49-1719819ddcff",
    "deepnote_cell_type": "markdown",
    "tags": []
   },
   "source": [
    "**6- CODE IT** Write a piece of code using regex to identiy the pattern for your defined rule for Hypernymy in the exercise above and outputs an RDF tuple <Subject,Predicate,Object>\n",
    "\n",
    "for instance :<Fruit,Hypernym,Banana>"
   ]
  },
  {
   "cell_type": "code",
   "execution_count": null,
   "metadata": {
    "cell_id": "00059-2f03cd74-7f78-472f-ba75-8227bdacf94a",
    "deepnote_cell_type": "code",
    "tags": []
   },
   "outputs": [],
   "source": [
    "# insert your code here"
   ]
  },
  {
   "cell_type": "markdown",
   "metadata": {
    "cell_id": "00016-028e4771-76f4-4685-b609-2b88b93a84aa",
    "deepnote_cell_type": "markdown",
    "tags": []
   },
   "source": [
    "## Event Extraction\n",
    "\n",
    "Event extraction is the task of identifying an event which is occuring at a particular point in time or a time interval.\n",
    "\n",
    "In english events are usually(but not always) expressed with verbs.\n",
    "\n",
    "For example:  World war II **started** in 1 September 1939\n",
    "\n",
    "\n",
    "The start of the war is an event which happened at a specific time.\n",
    "\n",
    "\n",
    "\n",
    "One of the application of event extraction is to detect temporal ordering of events. For instance if two events are happening simeltaneously or one after another"
   ]
  },
  {
   "cell_type": "markdown",
   "metadata": {
    "cell_id": "00049-104e7f99-4541-4452-b938-713b00bb1aea",
    "deepnote_cell_type": "markdown",
    "tags": []
   },
   "source": [
    "---"
   ]
  },
  {
   "cell_type": "markdown",
   "metadata": {
    "cell_id": "00061-ebd85d6c-abc9-4f55-b793-faaca535f71a",
    "deepnote_cell_type": "markdown",
    "tags": []
   },
   "source": [
    "**7- Homework Exercise**  Acronym expansion is the task of associating a phrase with an acronym such as **JFK** for **John F Kennedy**.\n",
    "\n",
    "Search for some common **Three Letter Acronyms(TLA)** and their proper phrase in a language you know. \n",
    "\n",
    "Then write a piece of code that extracts from text the Three Letter Acronyms which serve as Named Entities and replace them with the proper phrase.\n",
    "\n",
    "Use any library introduced in this session for extracting NEs.\n",
    "\n",
    "Apply your code on a piece of text longer than 500 words which includes the TLA's you considered.\n"
   ]
  },
  {
   "cell_type": "code",
   "execution_count": null,
   "metadata": {
    "cell_id": "00013-e7143d8f-139b-42fb-a810-518d4be3a6d5",
    "deepnote_cell_type": "code",
    "execution_millis": 3,
    "execution_start": 1603804661001,
    "output_cleared": false,
    "source_hash": "4f2f295c",
    "tags": []
   },
   "outputs": [],
   "source": [
    "# insert your code here"
   ]
  },
  {
   "cell_type": "markdown",
   "metadata": {
    "cell_id": "00054-f31614c4-611e-4315-b8fc-f54404336c64",
    "deepnote_cell_type": "markdown",
    "tags": []
   },
   "source": [
    "---"
   ]
  },
  {
   "cell_type": "markdown",
   "metadata": {
    "cell_id": "00064-34fc7da0-b1b9-4554-aa26-edd97fed63e2",
    "deepnote_cell_type": "markdown",
    "tags": []
   },
   "source": [
    "## References:\n",
    "1. https://www.nltk.org/book/ch07.html\n",
    "2. https://spacy.io/\n",
    "3. https://web.stanford.edu/~jurafsky/slp3/"
   ]
  }
 ],
 "metadata": {
  "deepnote_execution_queue": [],
  "deepnote_notebook_id": "2f04f2cb-5d5e-4c7a-97f9-59c1771fc325",
  "kernelspec": {
   "display_name": "Python 3",
   "language": "python",
   "name": "python3"
  },
  "language_info": {
   "codemirror_mode": {
    "name": "ipython",
    "version": 3
   },
   "file_extension": ".py",
   "mimetype": "text/x-python",
   "name": "python",
   "nbconvert_exporter": "python",
   "pygments_lexer": "ipython3",
   "version": "3.6.9"
  }
 },
 "nbformat": 4,
 "nbformat_minor": 2
}
